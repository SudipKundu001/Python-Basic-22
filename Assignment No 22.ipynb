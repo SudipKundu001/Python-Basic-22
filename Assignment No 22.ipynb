{
 "cells": [
  {
   "cell_type": "markdown",
   "id": "2252e443",
   "metadata": {},
   "source": [
    ">__1.What is the result of the code,and explain__"
   ]
  },
  {
   "cell_type": "code",
   "execution_count": 4,
   "id": "99666ed6",
   "metadata": {},
   "outputs": [
    {
     "name": "stdout",
     "output_type": "stream",
     "text": [
      "iNeuron\n"
     ]
    }
   ],
   "source": [
    "x = 'iNeuron'\n",
    "def func():\n",
    "    print(x)\n",
    "func()"
   ]
  },
  {
   "cell_type": "markdown",
   "id": "edaccc0e",
   "metadata": {},
   "source": [
    "The function named func() takes the value of x which is assigned outside of the function and prints it ."
   ]
  },
  {
   "cell_type": "markdown",
   "id": "2b8f49d5",
   "metadata": {},
   "source": [
    ">__2.What is the result of the code,and explain__"
   ]
  },
  {
   "cell_type": "code",
   "execution_count": 30,
   "id": "c1605b46",
   "metadata": {},
   "outputs": [
    {
     "name": "stdout",
     "output_type": "stream",
     "text": [
      "NI\n"
     ]
    }
   ],
   "source": [
    "x = 'iNeuron'\n",
    "def func():\n",
    "    x= 'NI'\n",
    "    print(x)\n",
    "    \n",
    "func()"
   ]
  },
  {
   "cell_type": "markdown",
   "id": "e0fd3fe3",
   "metadata": {},
   "source": [
    "The value of x is assigned inside the function, so when the function runs it takes the value of x from inside not from outside."
   ]
  },
  {
   "cell_type": "markdown",
   "id": "77619e95",
   "metadata": {},
   "source": [
    ">__3.What does the code print and why?__"
   ]
  },
  {
   "cell_type": "code",
   "execution_count": 8,
   "id": "02e6f586",
   "metadata": {},
   "outputs": [
    {
     "name": "stdout",
     "output_type": "stream",
     "text": [
      "NI\n",
      "iNeuron\n"
     ]
    }
   ],
   "source": [
    "x = 'iNeuron'\n",
    "def func():\n",
    "    x= 'NI'\n",
    "    print(x)\n",
    "    \n",
    "func()\n",
    "print(x)"
   ]
  },
  {
   "cell_type": "markdown",
   "id": "ced2acf6",
   "metadata": {},
   "source": [
    "The value of x is assigned inside the function, so when the function runs it takes the value of x from inside not from outside but when we print the value of x outside the funcion so it prints the value of x which is assigned outside the function."
   ]
  },
  {
   "cell_type": "markdown",
   "id": "e750502b",
   "metadata": {},
   "source": [
    ">__4.What output the code produce? why?__"
   ]
  },
  {
   "cell_type": "code",
   "execution_count": 31,
   "id": "038ad29a",
   "metadata": {},
   "outputs": [
    {
     "name": "stdout",
     "output_type": "stream",
     "text": [
      "NI\n"
     ]
    }
   ],
   "source": [
    "x = 'iNeuron'\n",
    "def func():\n",
    "    global x\n",
    "    x='NI'\n",
    "func()    \n",
    "print(x)"
   ]
  },
  {
   "cell_type": "markdown",
   "id": "596954f6",
   "metadata": {},
   "source": [
    "Function takes the value of x from outside (global variable) but then also reassign it inside. Now the value of x is changed to 'NI'."
   ]
  },
  {
   "cell_type": "markdown",
   "id": "db871336",
   "metadata": {},
   "source": [
    ">__5.What about this code--What's the output, and why?__"
   ]
  },
  {
   "cell_type": "code",
   "execution_count": 35,
   "id": "d8e8af49",
   "metadata": {},
   "outputs": [
    {
     "name": "stdout",
     "output_type": "stream",
     "text": [
      "iNeuron\n"
     ]
    }
   ],
   "source": [
    "x = 'iNeuron'\n",
    "\n",
    "def func():\n",
    "    x='NI'\n",
    "    def nested():\n",
    "        print(X)\n",
    "\n",
    "nested()"
   ]
  },
  {
   "cell_type": "markdown",
   "id": "1e81d057",
   "metadata": {},
   "source": [
    "The nested function takes the value of x from outside as the value of x is not assigned inside of it."
   ]
  },
  {
   "cell_type": "code",
   "execution_count": 34,
   "id": "6ea1eb83",
   "metadata": {},
   "outputs": [
    {
     "data": {
      "text/plain": [
       "'NI'"
      ]
     },
     "execution_count": 34,
     "metadata": {},
     "output_type": "execute_result"
    }
   ],
   "source": [
    "func()\n",
    "x"
   ]
  },
  {
   "cell_type": "markdown",
   "id": "6ad5c6de",
   "metadata": {},
   "source": [
    "The above function takes the value of x from inside and prints it."
   ]
  },
  {
   "cell_type": "markdown",
   "id": "e42586ac",
   "metadata": {},
   "source": [
    ">__6.How about this code: What is the output in Python 3, and why?__ "
   ]
  },
  {
   "cell_type": "code",
   "execution_count": 3,
   "id": "27e7ca24",
   "metadata": {},
   "outputs": [
    {
     "name": "stdout",
     "output_type": "stream",
     "text": [
      "spam\n"
     ]
    }
   ],
   "source": [
    "def func():\n",
    "    x='NI'\n",
    "    def nested():\n",
    "        nonlocal x\n",
    "        x='spam'\n",
    "    nested()\n",
    "    print(x)\n",
    "\n",
    "func()"
   ]
  },
  {
   "cell_type": "markdown",
   "id": "6fd1807d",
   "metadata": {},
   "source": [
    "In the above code, there is a nested nested() function. We use nonlocal keywords to create a nonlocal variable. The nested() function is defined in the scope of another function func().\n",
    "\n",
    "Note : If we change the value of a nonlocal variable, the changes appear in the local variable."
   ]
  },
  {
   "cell_type": "code",
   "execution_count": null,
   "id": "f445ac2f",
   "metadata": {},
   "outputs": [],
   "source": []
  }
 ],
 "metadata": {
  "kernelspec": {
   "display_name": "Python 3",
   "language": "python",
   "name": "python3"
  },
  "language_info": {
   "codemirror_mode": {
    "name": "ipython",
    "version": 3
   },
   "file_extension": ".py",
   "mimetype": "text/x-python",
   "name": "python",
   "nbconvert_exporter": "python",
   "pygments_lexer": "ipython3",
   "version": "3.8.8"
  }
 },
 "nbformat": 4,
 "nbformat_minor": 5
}
